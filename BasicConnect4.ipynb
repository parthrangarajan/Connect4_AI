{
 "cells": [
  {
   "cell_type": "code",
   "execution_count": 1,
   "metadata": {},
   "outputs": [
    {
     "name": "stdout",
     "output_type": "stream",
     "text": [
      "pygame 2.0.0 (SDL 2.0.12, python 3.7.6)\n",
      "Hello from the pygame community. https://www.pygame.org/contribute.html\n"
     ]
    }
   ],
   "source": [
    "import numpy as np\n",
    "import pygame\n",
    "import sys\n",
    "import math"
   ]
  },
  {
   "cell_type": "code",
   "execution_count": 39,
   "metadata": {},
   "outputs": [],
   "source": [
    "Blue=(0,0,255)\n",
    "Black=(0,0,0)\n",
    "Red=(255,0,0)\n",
    "Green=(0,128,0)\n"
   ]
  },
  {
   "cell_type": "code",
   "execution_count": 40,
   "metadata": {},
   "outputs": [],
   "source": [
    "import pygame \n",
    "#fonts=pygame.font.SysFont(\"arial\",50)\n",
    "fonts=pygame.font.Font(\"C:\\Windows\\Fonts\\Arial.ttf\",50)"
   ]
  },
  {
   "cell_type": "code",
   "execution_count": 41,
   "metadata": {},
   "outputs": [],
   "source": [
    "def create_board():\n",
    "\tboard = np.zeros((Rows,Cols))\n",
    "\treturn board\n",
    "# A matrix of zeroes\n",
    "\n",
    "#initializing the game \n",
    "pygame.init()\n",
    "\n",
    "#how big do we want the game screen??\n",
    "square_size=100\n",
    "width=Cols*square_size\n",
    "height=Rows+1*square_size\n",
    "size=(width,height)\n",
    "rad=int(square_size/2-7)\n",
    "\n",
    "screen=pygame.display.set_mode(size)"
   ]
  },
  {
   "cell_type": "code",
   "execution_count": 1,
   "metadata": {},
   "outputs": [],
   "source": [
    "def place_piece(board, row, col, piece):\n",
    "\tboard[row][col] = piece\n",
    "\n",
    "def valid_loc(board, col):\n",
    "\treturn board[Rows-1][col] == 0\n"
   ]
  },
  {
   "cell_type": "code",
   "execution_count": 59,
   "metadata": {},
   "outputs": [],
   "source": [
    "def draw_pygameBoard(board):\n",
    "    #building the background\n",
    "    for col in range(Cols):\n",
    "        for row in range(Rows):\n",
    "            pygame.draw.rect(screen,Blue,(col*square_size,row*square_size+square_size,square_size,square_size))#creating a base rectangle\n",
    "            pygame.draw.circle(screen,Black,(int(col*square_size+square_size/2),int(row*square_size+square_size+square_size/2)),rad)#creating the little circles to enclose the pieces\n",
    "    \n",
    "    for col in range(Cols):\n",
    "        for row in range(Rows):\n",
    "            if board[row][col]==1:\n",
    "                pygame.draw.circle(screen,Red,(int(col*square_size+square_size/2),height-int(row*square_size+square_size/2)),rad)\n",
    "            elif board[row][col]==2:\n",
    "                pygame.draw.circle(screen,Green,(int(col*square_size+square_size/2),height-int(row*square_size+square_size/2)),rad)\n",
    "    pygame.display.update()"
   ]
  },
  {
   "cell_type": "code",
   "execution_count": 60,
   "metadata": {},
   "outputs": [
    {
     "name": "stdout",
     "output_type": "stream",
     "text": [
      "[[0. 0. 0. 0. 0. 0. 0.]\n",
      " [0. 0. 0. 0. 0. 0. 0.]\n",
      " [0. 0. 0. 0. 0. 0. 0.]\n",
      " [0. 0. 0. 0. 0. 0. 0.]\n",
      " [0. 0. 0. 0. 0. 0. 0.]\n",
      " [0. 0. 0. 0. 0. 0. 0.]]\n"
     ]
    }
   ],
   "source": [
    "board=create_board()\n",
    "print(board)"
   ]
  },
  {
   "cell_type": "code",
   "execution_count": 61,
   "metadata": {},
   "outputs": [],
   "source": [
    "def place_piece(board,row,col,piece):\n",
    "    board[row][col]=piece"
   ]
  },
  {
   "cell_type": "code",
   "execution_count": 62,
   "metadata": {},
   "outputs": [],
   "source": [
    "def valid_loc(board,col):\n",
    "    return board[Rows-1][col]==0"
   ]
  },
  {
   "cell_type": "code",
   "execution_count": 63,
   "metadata": {},
   "outputs": [],
   "source": [
    "def get_nextRow(board,col):\n",
    "    #Checks which row will piece fall in\n",
    "    for row in range(Rows):\n",
    "        if board[row][col]==0:\n",
    "            return row  #still empty\n",
    "        "
   ]
  },
  {
   "cell_type": "code",
   "execution_count": 64,
   "metadata": {},
   "outputs": [],
   "source": [
    "def flip_board(board):\n",
    "    print(np.flip(board,0))#flipping along x axis"
   ]
  },
  {
   "cell_type": "code",
   "execution_count": 65,
   "metadata": {},
   "outputs": [],
   "source": [
    "def who_won(board,piece):\n",
    "    #Horizontal check\n",
    "    for col in range(Cols-3):\n",
    "        for row in range(Rows):\n",
    "            if board[row][col]==piece and board[row][col+1]==piece and board[row][col+2]==piece and board[row][col+3]==piece:\n",
    "                return True\n",
    "            \n",
    "    #Vertical check\n",
    "    for col in range(Cols):\n",
    "        for row in range(Rows-3):\n",
    "            if board[row][col]==piece and board[row+1][col]==piece and board[row+2][col]==piece and board[row+3][col]==piece:\n",
    "                return True\n",
    "    \n",
    "    #Diagonals toward the top\n",
    "    for col in range(Cols-3):\n",
    "        for row in range(Rows-3):\n",
    "            if board[row][col]==piece and board[row+1][col+1]==piece and board[row+2][col+2]==piece and board[row+3][col+3]==piece:\n",
    "                return True\n",
    "    \n",
    "    #Diagonals toward the bottom\n",
    "    for col in range(Cols-3):\n",
    "        for row in range(3,Rows):\n",
    "            if board[row][col]==piece and board[row-1][col+1]==piece and board[row-2][col+2]==piece and board[row-3][col+3]==piece:\n",
    "                return True\n",
    "    \n",
    "    \n",
    "    "
   ]
  },
  {
   "cell_type": "code",
   "execution_count": 66,
   "metadata": {},
   "outputs": [
    {
     "name": "stdout",
     "output_type": "stream",
     "text": [
      "[[0. 0. 0. 0. 0. 0. 0.]\n",
      " [0. 0. 0. 0. 0. 0. 0.]\n",
      " [0. 0. 0. 0. 0. 0. 0.]\n",
      " [0. 0. 0. 0. 0. 0. 0.]\n",
      " [0. 0. 0. 0. 0. 0. 0.]\n",
      " [0. 1. 0. 0. 0. 0. 0.]]\n",
      "[[0. 0. 0. 0. 0. 0. 0.]\n",
      " [0. 0. 0. 0. 0. 0. 0.]\n",
      " [0. 0. 0. 0. 0. 0. 0.]\n",
      " [0. 0. 0. 0. 0. 0. 0.]\n",
      " [0. 0. 0. 0. 0. 0. 0.]\n",
      " [0. 1. 0. 0. 2. 0. 0.]]\n",
      "[[0. 0. 0. 0. 0. 0. 0.]\n",
      " [0. 0. 0. 0. 0. 0. 0.]\n",
      " [0. 0. 0. 0. 0. 0. 0.]\n",
      " [0. 0. 0. 0. 0. 0. 0.]\n",
      " [0. 0. 0. 0. 0. 0. 0.]\n",
      " [0. 1. 1. 0. 2. 0. 0.]]\n",
      "[[0. 0. 0. 0. 0. 0. 0.]\n",
      " [0. 0. 0. 0. 0. 0. 0.]\n",
      " [0. 0. 0. 0. 0. 0. 0.]\n",
      " [0. 0. 0. 0. 0. 0. 0.]\n",
      " [0. 0. 0. 0. 0. 0. 0.]\n",
      " [0. 1. 1. 0. 2. 2. 0.]]\n",
      "[[0. 0. 0. 0. 0. 0. 0.]\n",
      " [0. 0. 0. 0. 0. 0. 0.]\n",
      " [0. 0. 0. 0. 0. 0. 0.]\n",
      " [0. 0. 0. 0. 0. 0. 0.]\n",
      " [0. 0. 1. 0. 0. 0. 0.]\n",
      " [0. 1. 1. 0. 2. 2. 0.]]\n",
      "[[0. 0. 0. 0. 0. 0. 0.]\n",
      " [0. 0. 0. 0. 0. 0. 0.]\n",
      " [0. 0. 0. 0. 0. 0. 0.]\n",
      " [0. 0. 0. 0. 0. 0. 0.]\n",
      " [0. 0. 1. 0. 0. 0. 0.]\n",
      " [2. 1. 1. 0. 2. 2. 0.]]\n",
      "[[0. 0. 0. 0. 0. 0. 0.]\n",
      " [0. 0. 0. 0. 0. 0. 0.]\n",
      " [0. 0. 0. 0. 0. 0. 0.]\n",
      " [0. 0. 0. 0. 0. 0. 0.]\n",
      " [0. 0. 1. 0. 0. 0. 0.]\n",
      " [2. 1. 1. 1. 2. 2. 0.]]\n",
      "[[0. 0. 0. 0. 0. 0. 0.]\n",
      " [0. 0. 0. 0. 0. 0. 0.]\n",
      " [0. 0. 0. 0. 0. 0. 0.]\n",
      " [0. 0. 0. 0. 0. 0. 0.]\n",
      " [0. 0. 1. 0. 2. 0. 0.]\n",
      " [2. 1. 1. 1. 2. 2. 0.]]\n",
      "[[0. 0. 0. 0. 0. 0. 0.]\n",
      " [0. 0. 0. 0. 0. 0. 0.]\n",
      " [0. 0. 0. 0. 0. 0. 0.]\n",
      " [0. 0. 0. 0. 0. 0. 0.]\n",
      " [0. 0. 1. 0. 2. 0. 0.]\n",
      " [2. 1. 1. 1. 2. 2. 1.]]\n",
      "[[0. 0. 0. 0. 0. 0. 0.]\n",
      " [0. 0. 0. 0. 0. 0. 0.]\n",
      " [0. 0. 0. 0. 0. 0. 0.]\n",
      " [0. 0. 0. 0. 0. 0. 0.]\n",
      " [0. 0. 1. 0. 2. 0. 2.]\n",
      " [2. 1. 1. 1. 2. 2. 1.]]\n",
      "[[0. 0. 0. 0. 0. 0. 0.]\n",
      " [0. 0. 0. 0. 0. 0. 0.]\n",
      " [0. 0. 0. 0. 0. 0. 0.]\n",
      " [0. 0. 0. 0. 0. 0. 0.]\n",
      " [0. 0. 1. 1. 2. 0. 2.]\n",
      " [2. 1. 1. 1. 2. 2. 1.]]\n",
      "[[0. 0. 0. 0. 0. 0. 0.]\n",
      " [0. 0. 0. 0. 0. 0. 0.]\n",
      " [0. 0. 0. 0. 0. 0. 0.]\n",
      " [0. 0. 2. 0. 0. 0. 0.]\n",
      " [0. 0. 1. 1. 2. 0. 2.]\n",
      " [2. 1. 1. 1. 2. 2. 1.]]\n",
      "[[0. 0. 0. 0. 0. 0. 0.]\n",
      " [0. 0. 0. 0. 0. 0. 0.]\n",
      " [0. 0. 1. 0. 0. 0. 0.]\n",
      " [0. 0. 2. 0. 0. 0. 0.]\n",
      " [0. 0. 1. 1. 2. 0. 2.]\n",
      " [2. 1. 1. 1. 2. 2. 1.]]\n",
      "[[0. 0. 0. 0. 0. 0. 0.]\n",
      " [0. 0. 0. 0. 0. 0. 0.]\n",
      " [0. 0. 1. 0. 0. 0. 0.]\n",
      " [0. 0. 2. 2. 0. 0. 0.]\n",
      " [0. 0. 1. 1. 2. 0. 2.]\n",
      " [2. 1. 1. 1. 2. 2. 1.]]\n",
      "[[0. 0. 0. 0. 0. 0. 0.]\n",
      " [0. 0. 0. 0. 0. 0. 0.]\n",
      " [0. 0. 1. 1. 0. 0. 0.]\n",
      " [0. 0. 2. 2. 0. 0. 0.]\n",
      " [0. 0. 1. 1. 2. 0. 2.]\n",
      " [2. 1. 1. 1. 2. 2. 1.]]\n",
      "[[0. 0. 0. 0. 0. 0. 0.]\n",
      " [0. 0. 0. 2. 0. 0. 0.]\n",
      " [0. 0. 1. 1. 0. 0. 0.]\n",
      " [0. 0. 2. 2. 0. 0. 0.]\n",
      " [0. 0. 1. 1. 2. 0. 2.]\n",
      " [2. 1. 1. 1. 2. 2. 1.]]\n",
      "[[0. 0. 0. 1. 0. 0. 0.]\n",
      " [0. 0. 0. 2. 0. 0. 0.]\n",
      " [0. 0. 1. 1. 0. 0. 0.]\n",
      " [0. 0. 2. 2. 0. 0. 0.]\n",
      " [0. 0. 1. 1. 2. 0. 2.]\n",
      " [2. 1. 1. 1. 2. 2. 1.]]\n"
     ]
    },
    {
     "ename": "SystemExit",
     "evalue": "",
     "output_type": "error",
     "traceback": [
      "An exception has occurred, use %tb to see the full traceback.\n",
      "\u001b[1;31mSystemExit\u001b[0m\n"
     ]
    },
    {
     "name": "stderr",
     "output_type": "stream",
     "text": [
      "C:\\Users\\Parth Rangarajan\\Anaconda3\\lib\\site-packages\\IPython\\core\\interactiveshell.py:3339: UserWarning: To exit: use 'exit', 'quit', or Ctrl-D.\n",
      "  warn(\"To exit: use 'exit', 'quit', or Ctrl-D.\", stacklevel=1)\n"
     ]
    }
   ],
   "source": [
    "#Main Game loop\n",
    "\n",
    "game_is_over=False;\n",
    "turn=0\n",
    "while not game_is_over:\n",
    "    for event in pygame.event.get():\n",
    "        if event.type==pygame.QUIT:\n",
    "            sys.exit()\n",
    "        \n",
    "        if event.type==pygame.MOUSEMOTION:\n",
    "            pygame.draw.rect(screen,Black,(0,0,width,square_size))\n",
    "            posx=event.pos[0]\n",
    "            if turn==0:\n",
    "                pygame.draw.circle(screen,Red,(posx,int(square_size/2)),rad)\n",
    "            else:\n",
    "                pygame.draw.circle(screen,Green,(posx,int(square_size/2)),rad)\n",
    "        pygame.display.update()\n",
    "        \n",
    "        if event.type==pygame.MOUSEBUTTONDOWN:\n",
    "            pygame.draw.rect(screen,Black,(0,0,width,square_size))\n",
    "            #print(event.pos)\n",
    "            if turn==0:\n",
    "                posx=event.pos[0]\n",
    "                \n",
    "                column_selection=int(math.floor(posx/square_size))#int(input(\"Player 1 , your turn. Choose an integer from (0-6)\"))\n",
    "        #       print(\"Player 1's selection is : \",selection)\n",
    "                if valid_loc(board,column_selection):\n",
    "                    row = get_nextRow(board,column_selection)\n",
    "                    place_piece(board,row,column_selection,1)\n",
    "\n",
    "                if who_won(board,1):\n",
    "                    label=fonts.render(\"Player 1 wins!\",1,Red)\n",
    "                    pygame.display.update()\n",
    "                    game_is_over=True\n",
    "\n",
    "\n",
    "        #     Player 2 input\n",
    "            else:\n",
    "                posx=event.pos[0]\n",
    "                column_selection=int(math.floor(posx/square_size))\n",
    "                #         print(\"Player 2's selection is : \",selection)\n",
    "                if valid_loc(board,column_selection):\n",
    "                    row = get_nextRow(board,column_selection)\n",
    "                    place_piece(board,row,column_selection,2)\n",
    "\n",
    "\n",
    "                if who_won(board,2):\n",
    "                    label=fonts.render(\"Player 2 wins!\",2,Green)\n",
    "                    pygame.display.update()\n",
    "                    game_is_over=True\n",
    "\n",
    "\n",
    "\n",
    "            flip_board(board)\n",
    "            draw_pygameBoard(board) \n",
    "            turn+=1\n",
    "            turn=turn%2#to alternate between player 1 and player 2\n",
    "            \n",
    "            if game_is_over:\n",
    "                pyame.time.wait(7000)\n",
    "           \n",
    "        "
   ]
  },
  {
   "cell_type": "code",
   "execution_count": 53,
   "metadata": {},
   "outputs": [
    {
     "name": "stdin",
     "output_type": "stream",
     "text": [
      "Enter the number of rows in game :  8\n",
      "Enter the number of columns in game :  9\n"
     ]
    },
    {
     "name": "stdout",
     "output_type": "stream",
     "text": [
      "[[0. 0. 0. 0. 0. 0. 0. 0. 0.]\n",
      " [0. 0. 0. 0. 0. 0. 0. 0. 0.]\n",
      " [0. 0. 0. 0. 0. 0. 0. 0. 0.]\n",
      " [0. 0. 0. 0. 0. 0. 0. 0. 0.]\n",
      " [0. 0. 0. 0. 0. 0. 0. 0. 0.]\n",
      " [0. 0. 0. 0. 0. 0. 0. 0. 0.]\n",
      " [0. 0. 0. 0. 0. 0. 0. 0. 0.]\n",
      " [0. 0. 0. 0. 0. 0. 0. 0. 0.]]\n"
     ]
    }
   ],
   "source": [
    "'''\n",
    "r=int(input(\"Enter the number of rows in game : \"))\n",
    "c=int(input(\"Enter the number of columns in game : \"))\n",
    "def create_board():\n",
    "    board=np.zeros((r,c))\n",
    "    return board\n",
    "# A matrix of zeroes\n",
    "\n",
    "b=create_board()\n",
    "print(b)\n",
    "'''"
   ]
  },
  {
   "cell_type": "code",
   "execution_count": null,
   "metadata": {},
   "outputs": [],
   "source": []
  }
 ],
 "metadata": {
  "kernelspec": {
   "display_name": "Python 3",
   "language": "python",
   "name": "python3"
  },
  "language_info": {
   "codemirror_mode": {
    "name": "ipython",
    "version": 3
   },
   "file_extension": ".py",
   "mimetype": "text/x-python",
   "name": "python",
   "nbconvert_exporter": "python",
   "pygments_lexer": "ipython3",
   "version": "3.7.6"
  }
 },
 "nbformat": 4,
 "nbformat_minor": 4
}
